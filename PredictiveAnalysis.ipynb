{
  "nbformat": 4,
  "nbformat_minor": 0,
  "metadata": {
    "colab": {
      "provenance": [],
      "include_colab_link": true
    },
    "kernelspec": {
      "name": "python3",
      "display_name": "Python 3"
    },
    "language_info": {
      "name": "python"
    }
  },
  "cells": [
    {
      "cell_type": "markdown",
      "metadata": {
        "id": "view-in-github",
        "colab_type": "text"
      },
      "source": [
        "<a href=\"https://colab.research.google.com/github/Ashraf0001/Machine-Learning/blob/main/PredictiveAnalysis.ipynb\" target=\"_parent\"><img src=\"https://colab.research.google.com/assets/colab-badge.svg\" alt=\"Open In Colab\"/></a>"
      ]
    },
    {
      "cell_type": "code",
      "execution_count": null,
      "metadata": {
        "colab": {
          "base_uri": "https://localhost:8080/"
        },
        "id": "anxeMhYJzh0o",
        "outputId": "6307de27-9066-4a63-f535-b1e56f990056"
      },
      "outputs": [
        {
          "output_type": "stream",
          "name": "stdout",
          "text": [
            "Model Accuracy: 97.50%\n"
          ]
        },
        {
          "output_type": "execute_result",
          "data": {
            "text/plain": [
              "['predictive_maintenance_model.pkl']"
            ]
          },
          "metadata": {},
          "execution_count": 12
        }
      ],
      "source": [
        "# Import necessary libraries\n",
        "import pandas as pd\n",
        "import numpy as np\n",
        "from sklearn.model_selection import train_test_split\n",
        "from sklearn.ensemble import RandomForestClassifier\n",
        "from sklearn.metrics import accuracy_score\n",
        "# Import to handle datetime\n",
        "from datetime import datetime\n",
        "\n",
        "# Load dataset (assuming CSV format)\n",
        "# Replace with actual data file path\n",
        "data = pd.read_csv('/synthetic_vehicle_data_with_descriptive_names.csv')\n",
        "\n",
        "# Convert 'Timestamp' to datetime objects and extract numerical features\n",
        "data['Timestamp'] = pd.to_datetime(data['Timestamp'])  # Convert to datetime\n",
        "data['Year'] = data['Timestamp'].dt.year\n",
        "data['Month'] = data['Timestamp'].dt.month\n",
        "data['Day'] = data['Timestamp'].dt.day\n",
        "# ... add other relevant features like hour, day of week, etc. if needed\n",
        "\n",
        "# Drop the original 'Timestamp' column\n",
        "X = data.drop(columns=['Failure', 'Timestamp'])\n",
        "y = data['Failure']\n",
        "\n",
        "# Split the dataset into training and testing sets\n",
        "X_train, X_test, y_train, y_test = train_test_split(X, y, test_size=0.2, random_state=42)\n",
        "\n",
        "# Initialize and train the RandomForest model\n",
        "model = RandomForestClassifier(n_estimators=100, random_state=42)\n",
        "model.fit(X_train, y_train)\n",
        "\n",
        "# Make predictions on the test set\n",
        "y_pred = model.predict(X_test)\n",
        "\n",
        "# Evaluate model performance\n",
        "accuracy = accuracy_score(y_test, y_pred)\n",
        "print(f\"Model Accuracy: {accuracy * 100:.2f}%\")\n",
        "\n",
        "# Save the trained model\n",
        "import joblib\n",
        "joblib.dump(model, 'predictive_maintenance_model.pkl')"
      ]
    },
    {
      "cell_type": "code",
      "source": [
        "# Import necessary libraries\n",
        "import pandas as pd\n",
        "import numpy as np\n",
        "from sklearn.model_selection import train_test_split\n",
        "from sklearn.ensemble import RandomForestClassifier\n",
        "from sklearn.metrics import accuracy_score\n",
        "# Import to handle datetime\n",
        "from datetime import datetime\n",
        "import joblib\n",
        "\n",
        "# Load dataset (assuming CSV format)\n",
        "# Replace with actual data file path\n",
        "data = pd.read_csv('/synthetic_vehicle_data_with_descriptive_names.csv')\n",
        "\n",
        "# Convert 'Timestamp' to datetime objects and extract numerical features\n",
        "data['Timestamp'] = pd.to_datetime(data['Timestamp'])  # Convert to datetime\n",
        "data['Year'] = data['Timestamp'].dt.year\n",
        "data['Month'] = data['Timestamp'].dt.month\n",
        "data['Day'] = data['Timestamp'].dt.day\n",
        "# ... add other relevant features like hour, day of week, etc. if needed\n",
        "\n",
        "# Drop the original 'Timestamp' column\n",
        "X = data.drop(columns=['Failure', 'Timestamp'])\n",
        "y = data['Failure']\n",
        "\n",
        "# Split the dataset into training and testing sets\n",
        "X_train, X_test, y_train, y_test = train_test_split(X, y, test_size=0.2, random_state=42)\n",
        "\n",
        "# Initialize and train the RandomForest model\n",
        "model = RandomForestClassifier(n_estimators=100, random_state=42)\n",
        "model.fit(X_train, y_train)\n",
        "\n",
        "# Make predictions on the test set\n",
        "y_pred = model.predict(X_test)\n",
        "\n",
        "# Evaluate model performance\n",
        "accuracy = accuracy_score(y_test, y_pred)\n",
        "print(f\"Model Accuracy: {accuracy * 100:.2f}%\")\n",
        "\n",
        "# Save the trained model\n",
        "joblib.dump(model, 'predictive_maintenance_model.pkl')\n",
        "\n",
        "# -------------------------------------------------------------------\n",
        "# Load the saved model\n",
        "loaded_model = joblib.load('predictive_maintenance_model.pkl')\n",
        "\n",
        "# Load new data for testing (replace with your new data file path)\n",
        "new_data = pd.read_csv('/path/to/your/new_data.csv')\n",
        "\n",
        "# Preprocess new data in the same way as the training data\n",
        "new_data['Timestamp'] = pd.to_datetime(new_data['Timestamp'])\n",
        "new_data['Year'] = new_data['Timestamp'].dt.year\n",
        "new_data['Month'] = new_data['Timestamp'].dt.month\n",
        "new_data['Day'] = new_data['Timestamp'].dt.day\n",
        "# ... add other relevant features like hour, day of week, etc. if needed\n",
        "\n",
        "# Drop the original 'Timestamp' column from new data\n",
        "new_X = new_data.drop(columns=['Timestamp'])  # Assuming 'Failure' is not in new data\n",
        "\n",
        "# Make predictions on new data\n",
        "new_predictions = loaded_model.predict(new_X)\n",
        "\n",
        "# Print or use the predictions\n",
        "print(\"Predictions for new data:\", new_predictions)\n",
        "# -------------------------------------------------------------------"
      ],
      "metadata": {
        "id": "bxkFDBGm0FVJ"
      },
      "execution_count": null,
      "outputs": []
    },
    {
      "cell_type": "code",
      "source": [
        "# ... (previous code remains the same) ...\n",
        "\n",
        "# Load the saved model\n",
        "loaded_model = joblib.load('predictive_maintenance_model.pkl')\n",
        "\n",
        "# Create a single handwritten data point with proper feature names\n",
        "new_data_point = {\n",
        "    'Temperature_Sensor': 45.98,\n",
        "    'Vibration_Sensor': 84.1,\n",
        "    'Pressure_Sensor': 69.45,\n",
        "    'Flow_Sensor': 86.56,  # Example value, replace with your actual data\n",
        "    'Current_Sensor': 93.58,  # Example value, replace with your actual data\n",
        "    'Year': 2024,\n",
        "    'Month': 3,\n",
        "    'Day': 22\n",
        "}\n",
        "\n",
        "# Convert to DataFrame, ensuring the columns are in the same order as during training\n",
        "new_data = pd.DataFrame([new_data_point], columns=X_train.columns)\n",
        "\n",
        "# Make prediction\n",
        "new_prediction = loaded_model.predict(new_data)[0]\n",
        "\n",
        "# Print the prediction\n",
        "print(\"Prediction for handwritten input:\", new_prediction)\n",
        "\n"
      ],
      "metadata": {
        "colab": {
          "base_uri": "https://localhost:8080/"
        },
        "id": "eiGbNENm6HcS",
        "outputId": "5fcaf039-cb9b-46ad-f7bb-9bb4ca463513"
      },
      "execution_count": null,
      "outputs": [
        {
          "output_type": "stream",
          "name": "stdout",
          "text": [
            "Prediction for handwritten input: 1\n"
          ]
        }
      ]
    }
  ]
}